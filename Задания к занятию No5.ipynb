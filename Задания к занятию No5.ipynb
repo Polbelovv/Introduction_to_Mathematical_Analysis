{
 "cells": [
  {
   "cell_type": "code",
   "execution_count": 1,
   "id": "1d590d6a",
   "metadata": {},
   "outputs": [
    {
     "name": "stdout",
     "output_type": "stream",
     "text": [
      "1. 0\n",
      "2. 2/3\n",
      "3. log(7)/log(3)\n",
      "4. 3*x**2\n",
      "5. -3/25\n",
      "6. 2\n",
      "7. 2\n",
      "8. E\n",
      "9. exp(-2)\n",
      "10. 1/2\n"
     ]
    }
   ],
   "source": [
    "import sympy\n",
    "\n",
    "# 1. lim [ln(x + 3) – ln x]\n",
    "x = sympy.Symbol('x')\n",
    "limit_1 = sympy.limit(sympy.ln(x + 3) - sympy.ln(x), x, sympy.oo)\n",
    "print(f\"1. {limit_1}\")\n",
    "\n",
    "# 2. lim ln(1+2x) / arcsin 3x\n",
    "limit_2 = sympy.limit(sympy.ln(1 + 2*x) / sympy.asin(3*x), x, 0)\n",
    "print(f\"2. {limit_2}\")\n",
    "\n",
    "# 3. lim (7^x - 1) / (3^x - 1)\n",
    "limit_3 = sympy.limit((7**x - 1) / (3**x - 1), x, 0)\n",
    "print(f\"3. {limit_3}\")\n",
    "\n",
    "# 4. lim ((x+a)^3 - x^3) / a\n",
    "a = sympy.Symbol('a')\n",
    "limit_4 = sympy.limit(((x + a)**3 - x**3) / a, a, 0)\n",
    "print(f\"4. {limit_4}\")\n",
    "\n",
    "# 5. lim (x^3 / (5x^2 + 1) - x^2 / (5x - 3))\n",
    "limit_5 = sympy.limit(x**3 / (5*x**2 + 1) - x**2 / (5*x - 3), x, sympy.oo)\n",
    "print(f\"5. {limit_5}\")\n",
    "\n",
    "# 6. lim (1 - cos 4x) / (2x * tg 2x)\n",
    "limit_6 = sympy.limit((1 - sympy.cos(4*x)) / (2*x * sympy.tan(2*x)), x, 0)\n",
    "print(f\"6. {limit_6}\")\n",
    "\n",
    "# 7. lim x * sin(2/x)\n",
    "limit_7 = sympy.limit(x * sympy.sin(2/x), x, sympy.oo)\n",
    "print(f\"7. {limit_7}\")\n",
    "\n",
    "# 8. lim (1 + tg x)^ctg x\n",
    "limit_8 = sympy.limit((1 + sympy.tan(x))**sympy.cot(x), x, 0)\n",
    "print(f\"8. {limit_8}\")\n",
    "\n",
    "# 9. lim (cos 2x)^(1 / sin^2 x)\n",
    "limit_9 = sympy.limit(sympy.cos(2*x)**(1 / sympy.sin(x)**2), x, 0)\n",
    "print(f\"9. {limit_9}\")\n",
    "\n",
    "# 10. lim (sqrt(1 + x * sin x) - 1) / x^2\n",
    "limit_10 = sympy.limit((sympy.sqrt(1 + x * sympy.sin(x)) - 1) / x**2, x, 0)\n",
    "print(f\"10. {limit_10}\")"
   ]
  },
  {
   "cell_type": "code",
   "execution_count": 2,
   "id": "ebade21c",
   "metadata": {},
   "outputs": [
    {
     "name": "stdout",
     "output_type": "stream",
     "text": [
      "Упрощенная функция f1: x - 4\n",
      "Предел слева от -4: -8\n",
      "Предел справа от -4: -8\n",
      "Предел при x -> 0: 1\n",
      "Предел слева от 1: -pi/2\n",
      "Предел справа от 1: pi/2\n",
      "Значение функции в x = 1: AccumBounds(-pi/2, pi/2)\n",
      "Предел слева от 3: -oo\n",
      "Предел справа от 3: oo\n",
      "Значение функции в x = 3: zoo\n"
     ]
    }
   ],
   "source": [
    "import sympy as sp\n",
    "\n",
    "# Определение переменной\n",
    "x = sp.symbols('x')\n",
    "\n",
    "# Задача 2.1\n",
    "f1 = (x**2 - 16) / (x + 4)\n",
    "f1_simplified = sp.simplify(f1)\n",
    "print(\"Упрощенная функция f1:\", f1_simplified)\n",
    "limit_left_f1 = sp.limit(f1, x, -4, dir='-')\n",
    "limit_right_f1 = sp.limit(f1, x, -4, dir='+')\n",
    "print(\"Предел слева от -4:\", limit_left_f1)\n",
    "print(\"Предел справа от -4:\", limit_right_f1)\n",
    "\n",
    "# Задача 2.2\n",
    "f2 = sp.sin(x) / x\n",
    "limit_f2 = sp.limit(f2, x, 0)\n",
    "print(\"Предел при x -> 0:\", limit_f2)\n",
    "\n",
    "# Задача 3.1\n",
    "f3 = sp.atan(2 / (x - 1))\n",
    "limit_left_f3 = sp.limit(f3, x, 1, dir='-')\n",
    "limit_right_f3 = sp.limit(f3, x, 1, dir='+')\n",
    "value_at_1_f3 = f3.subs(x, 1)\n",
    "print(\"Предел слева от 1:\", limit_left_f3)\n",
    "print(\"Предел справа от 1:\", limit_right_f3)\n",
    "print(\"Значение функции в x = 1:\", value_at_1_f3)\n",
    "\n",
    "# Задача 3.2\n",
    "f4 = 1 / (2**(x-3) - 1)\n",
    "limit_left_f4 = sp.limit(f4, x, 3, dir='-')\n",
    "limit_right_f4 = sp.limit(f4, x, 3, dir='+')\n",
    "value_at_3_f4 = f4.subs(x, 3)\n",
    "print(\"Предел слева от 3:\", limit_left_f4)\n",
    "print(\"Предел справа от 3:\", limit_right_f4)\n",
    "print(\"Значение функции в x = 3:\", value_at_3_f4)"
   ]
  },
  {
   "cell_type": "code",
   "execution_count": null,
   "id": "6baaa282",
   "metadata": {},
   "outputs": [],
   "source": []
  }
 ],
 "metadata": {
  "kernelspec": {
   "display_name": "Python 3 (ipykernel)",
   "language": "python",
   "name": "python3"
  },
  "language_info": {
   "codemirror_mode": {
    "name": "ipython",
    "version": 3
   },
   "file_extension": ".py",
   "mimetype": "text/x-python",
   "name": "python",
   "nbconvert_exporter": "python",
   "pygments_lexer": "ipython3",
   "version": "3.7.0"
  }
 },
 "nbformat": 4,
 "nbformat_minor": 5
}
